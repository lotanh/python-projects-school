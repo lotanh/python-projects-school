{
 "cells": [
  {
   "cell_type": "code",
   "execution_count": 5,
   "id": "ac1fb005",
   "metadata": {},
   "outputs": [
    {
     "name": "stdout",
     "output_type": "stream",
     "text": [
      "Loaded..\n"
     ]
    }
   ],
   "source": [
    "import pandas as pd\n",
    "import numpy as np\n",
    "import matplotlib.pyplot as plt\n",
    "plt.style.use('ggplot')\n",
    "\n",
    "try:\n",
    "    data = pd.read_csv('flights.csv')\n",
    "    print('Loaded..')\n",
    "except:\n",
    "    ('Error while loading the file..')"
   ]
  },
  {
   "cell_type": "code",
   "execution_count": 6,
   "id": "226da4ab",
   "metadata": {},
   "outputs": [
    {
     "data": {
      "text/html": [
       "<div>\n",
       "<style scoped>\n",
       "    .dataframe tbody tr th:only-of-type {\n",
       "        vertical-align: middle;\n",
       "    }\n",
       "\n",
       "    .dataframe tbody tr th {\n",
       "        vertical-align: top;\n",
       "    }\n",
       "\n",
       "    .dataframe thead th {\n",
       "        text-align: right;\n",
       "    }\n",
       "</style>\n",
       "<table border=\"1\" class=\"dataframe\">\n",
       "  <thead>\n",
       "    <tr style=\"text-align: right;\">\n",
       "      <th></th>\n",
       "      <th>Carrier</th>\n",
       "      <th>Day</th>\n",
       "      <th>DepTime</th>\n",
       "      <th>Dest</th>\n",
       "      <th>Origin</th>\n",
       "      <th>Weather</th>\n",
       "      <th>Delayed</th>\n",
       "    </tr>\n",
       "  </thead>\n",
       "  <tbody>\n",
       "    <tr>\n",
       "      <th>0</th>\n",
       "      <td>OH</td>\n",
       "      <td>WED</td>\n",
       "      <td>1455</td>\n",
       "      <td>JFK</td>\n",
       "      <td>BWI</td>\n",
       "      <td>0</td>\n",
       "      <td>0</td>\n",
       "    </tr>\n",
       "    <tr>\n",
       "      <th>1</th>\n",
       "      <td>DH</td>\n",
       "      <td>WED</td>\n",
       "      <td>1640</td>\n",
       "      <td>JFK</td>\n",
       "      <td>DCA</td>\n",
       "      <td>0</td>\n",
       "      <td>0</td>\n",
       "    </tr>\n",
       "    <tr>\n",
       "      <th>2</th>\n",
       "      <td>DH</td>\n",
       "      <td>WED</td>\n",
       "      <td>1245</td>\n",
       "      <td>LGA</td>\n",
       "      <td>IAD</td>\n",
       "      <td>0</td>\n",
       "      <td>0</td>\n",
       "    </tr>\n",
       "    <tr>\n",
       "      <th>3</th>\n",
       "      <td>DH</td>\n",
       "      <td>WED</td>\n",
       "      <td>1709</td>\n",
       "      <td>LGA</td>\n",
       "      <td>IAD</td>\n",
       "      <td>0</td>\n",
       "      <td>0</td>\n",
       "    </tr>\n",
       "    <tr>\n",
       "      <th>4</th>\n",
       "      <td>DH</td>\n",
       "      <td>WED</td>\n",
       "      <td>1035</td>\n",
       "      <td>LGA</td>\n",
       "      <td>IAD</td>\n",
       "      <td>0</td>\n",
       "      <td>0</td>\n",
       "    </tr>\n",
       "    <tr>\n",
       "      <th>...</th>\n",
       "      <td>...</td>\n",
       "      <td>...</td>\n",
       "      <td>...</td>\n",
       "      <td>...</td>\n",
       "      <td>...</td>\n",
       "      <td>...</td>\n",
       "      <td>...</td>\n",
       "    </tr>\n",
       "    <tr>\n",
       "      <th>2196</th>\n",
       "      <td>RU</td>\n",
       "      <td>FRI</td>\n",
       "      <td>644</td>\n",
       "      <td>EWR</td>\n",
       "      <td>DCA</td>\n",
       "      <td>0</td>\n",
       "      <td>0</td>\n",
       "    </tr>\n",
       "    <tr>\n",
       "      <th>2197</th>\n",
       "      <td>RU</td>\n",
       "      <td>FRI</td>\n",
       "      <td>1653</td>\n",
       "      <td>EWR</td>\n",
       "      <td>IAD</td>\n",
       "      <td>0</td>\n",
       "      <td>0</td>\n",
       "    </tr>\n",
       "    <tr>\n",
       "      <th>2198</th>\n",
       "      <td>RU</td>\n",
       "      <td>FRI</td>\n",
       "      <td>1558</td>\n",
       "      <td>EWR</td>\n",
       "      <td>DCA</td>\n",
       "      <td>0</td>\n",
       "      <td>0</td>\n",
       "    </tr>\n",
       "    <tr>\n",
       "      <th>2199</th>\n",
       "      <td>RU</td>\n",
       "      <td>FRI</td>\n",
       "      <td>1403</td>\n",
       "      <td>EWR</td>\n",
       "      <td>DCA</td>\n",
       "      <td>0</td>\n",
       "      <td>0</td>\n",
       "    </tr>\n",
       "    <tr>\n",
       "      <th>2200</th>\n",
       "      <td>RU</td>\n",
       "      <td>FRI</td>\n",
       "      <td>1736</td>\n",
       "      <td>EWR</td>\n",
       "      <td>DCA</td>\n",
       "      <td>0</td>\n",
       "      <td>0</td>\n",
       "    </tr>\n",
       "  </tbody>\n",
       "</table>\n",
       "<p>2201 rows × 7 columns</p>\n",
       "</div>"
      ],
      "text/plain": [
       "     Carrier  Day  DepTime Dest Origin  Weather  Delayed\n",
       "0         OH  WED     1455  JFK    BWI        0        0\n",
       "1         DH  WED     1640  JFK    DCA        0        0\n",
       "2         DH  WED     1245  LGA    IAD        0        0\n",
       "3         DH  WED     1709  LGA    IAD        0        0\n",
       "4         DH  WED     1035  LGA    IAD        0        0\n",
       "...      ...  ...      ...  ...    ...      ...      ...\n",
       "2196      RU  FRI      644  EWR    DCA        0        0\n",
       "2197      RU  FRI     1653  EWR    IAD        0        0\n",
       "2198      RU  FRI     1558  EWR    DCA        0        0\n",
       "2199      RU  FRI     1403  EWR    DCA        0        0\n",
       "2200      RU  FRI     1736  EWR    DCA        0        0\n",
       "\n",
       "[2201 rows x 7 columns]"
      ]
     },
     "execution_count": 6,
     "metadata": {},
     "output_type": "execute_result"
    }
   ],
   "source": [
    "data"
   ]
  },
  {
   "cell_type": "code",
   "execution_count": 7,
   "id": "6397b021",
   "metadata": {},
   "outputs": [
    {
     "name": "stdout",
     "output_type": "stream",
     "text": [
      "Rows: 2201 And cols: 7\n",
      "The columns names are: Index(['Carrier', 'Day', 'DepTime', 'Dest', 'Origin', 'Weather', 'Delayed'], dtype='object')\n"
     ]
    }
   ],
   "source": [
    "print('Rows:', data.shape[0], 'And cols:', data.shape[1])\n",
    "print('The columns names are:', data.columns)"
   ]
  },
  {
   "cell_type": "code",
   "execution_count": 9,
   "id": "c0dadfe5",
   "metadata": {},
   "outputs": [
    {
     "name": "stdout",
     "output_type": "stream",
     "text": [
      "Carrier    0\n",
      "Day        0\n",
      "DepTime    0\n",
      "Dest       0\n",
      "Origin     0\n",
      "Weather    0\n",
      "Delayed    0\n",
      "dtype: int64 There are not missing data\n"
     ]
    }
   ],
   "source": [
    "#Option 1\n",
    "print(data.isna().sum(),'There are not missing data')\n",
    "#Option 2\n"
   ]
  },
  {
   "cell_type": "code",
   "execution_count": 10,
   "id": "68bc3d5d",
   "metadata": {},
   "outputs": [
    {
     "name": "stdout",
     "output_type": "stream",
     "text": [
      "The day with the maximum flights is: THUR    391\n",
      "Name: Day, dtype: int64\n"
     ]
    },
    {
     "data": {
      "image/png": "[encoded data removed]",
      "text/plain": [
       "<Figure size 432x288 with 1 Axes>"
      ]
     },
     "metadata": {},
     "output_type": "display_data"
    }
   ],
   "source": [
    "data['Day'].value_counts().plot(kind='bar' , title='Flights' , xlabel='Days' , ylabel='Times')\n",
    "print('The day with the maximum flights is:', data['Day'].value_counts().head(1))"
   ]
  },
  {
   "cell_type": "code",
   "execution_count": 11,
   "id": "7d0c59fb",
   "metadata": {},
   "outputs": [
    {
     "name": "stdout",
     "output_type": "stream",
     "text": [
      "The Carrier with the most flights is: DH with 551 flights\n"
     ]
    },
    {
     "data": {
      "image/png": "[encoded data removed]",
      "text/plain": [
       "<Figure size 432x288 with 1 Axes>"
      ]
     },
     "metadata": {},
     "output_type": "display_data"
    }
   ],
   "source": [
    "data['Carrier'].value_counts().plot(kind='bar' , title='Carrier flights management' , xlabel='Carriers' , ylabel='Times', color='lightblue')\n",
    "print('The Carrier with the most flights is:',data['Carrier'].value_counts().head(1).keys()[0],'with',data['Carrier'].value_counts().head(1)[0],'flights')"
   ]
  },
  {
   "cell_type": "code",
   "execution_count": 12,
   "id": "81b2332a",
   "metadata": {},
   "outputs": [
    {
     "name": "stdout",
     "output_type": "stream",
     "text": [
      "Flights to JFK are 386\n"
     ]
    },
    {
     "data": {
      "image/png": "[encoded data removed]",
      "text/plain": [
       "<Figure size 432x288 with 1 Axes>"
      ]
     },
     "metadata": {},
     "output_type": "display_data"
    }
   ],
   "source": [
    "data['Dest'].value_counts().plot(kind='bar' , title='Flights to destinations' , xlabel='Destinations' , ylabel='Times', color='lightpink')\n",
    "print('Flights to',data['Dest'].value_counts().tail(1).keys()[0],'are',data['Dest'].value_counts().tail(1)[0])"
   ]
  },
  {
   "cell_type": "code",
   "execution_count": 13,
   "id": "35f5fbcd",
   "metadata": {},
   "outputs": [
    {
     "name": "stdout",
     "output_type": "stream",
     "text": [
      "There are 149 flights that are Origin from DTA and dest to JFK\n"
     ]
    }
   ],
   "source": [
    "print('There are',len(data[(data['Origin'] == 'DCA') & (data['Dest'] == 'JFK')]), 'flights that are Origin from DTA and dest to JFK')"
   ]
  },
  {
   "cell_type": "code",
   "execution_count": 14,
   "id": "6aee5d56",
   "metadata": {},
   "outputs": [
    {
     "data": {
      "text/plain": [
       "428"
      ]
     },
     "execution_count": 14,
     "metadata": {},
     "output_type": "execute_result"
    }
   ],
   "source": [
    "# print('The percentage of deleyed flights out of all flights',data['Delayed'].value_counts(normalize=True).tail(1)[1])\n",
    "data['Delayed'].sum()"
   ]
  },
  {
   "cell_type": "code",
   "execution_count": 15,
   "id": "b8f9a1ec",
   "metadata": {},
   "outputs": [
    {
     "data": {
      "text/plain": [
       "([<matplotlib.patches.Wedge at 0x7fb5cd49e700>,\n",
       "  <matplotlib.patches.Wedge at 0x7fb5cd442ee0>],\n",
       " [Text(-0.00033304006246584483, 1.1999999537851314, 'Delayed'),\n",
       "  Text(0.000305518751868289, -1.0999999575719503, 'All flights')],\n",
       " [Text(-0.00019427336977174278, 0.6999999730413264, '0.01%'),\n",
       "  Text(0.00016664659192815762, -0.5999999768574273, '99.99%')])"
      ]
     },
     "execution_count": 15,
     "metadata": {},
     "output_type": "execute_result"
    },
    {
     "data": {
      "image/png": "[encoded data removed]",
      "text/plain": [
       "<Figure size 432x288 with 1 Axes>"
      ]
     },
     "metadata": {},
     "output_type": "display_data"
    }
   ],
   "source": [
    "labels = ['Delayed' , 'All flights']\n",
    "values = [data['Delayed'].value_counts(normalize=True).tail(1)[1] , len(data['Delayed'])]\n",
    "explode = (0.1,0)\n",
    "plt.pie(values, explode=explode , labels=labels , shadow=True, autopct='%1.2f%%', startangle=90)"
   ]
  },
  {
   "cell_type": "code",
   "execution_count": 16,
   "id": "abf33d8e",
   "metadata": {},
   "outputs": [
    {
     "name": "stdout",
     "output_type": "stream",
     "text": [
      "     Carrier  Day  DepTime Dest Origin  Weather  Delayed\n",
      "0         OH  WED     1455  JFK    BWI        0        0\n",
      "1         DH  WED     1640  JFK    DCA        0        0\n",
      "2         DH  WED     1245  LGA    IAD        0        0\n",
      "3         DH  WED     1709  LGA    IAD        0        0\n",
      "4         DH  WED     1035  LGA    IAD        0        0\n",
      "...      ...  ...      ...  ...    ...      ...      ...\n",
      "2196      RU  FRI      644  EWR    DCA        0        0\n",
      "2197      RU  FRI     1653  EWR    IAD        0        0\n",
      "2198      RU  FRI     1558  EWR    DCA        0        0\n",
      "2199      RU  FRI     1403  EWR    DCA        0        0\n",
      "2200      RU  FRI     1736  EWR    DCA        0        0\n",
      "\n",
      "[2201 rows x 7 columns]\n"
     ]
    }
   ],
   "source": [
    "print(data)"
   ]
  },
  {
   "cell_type": "code",
   "execution_count": null,
   "id": "77042386",
   "metadata": {},
   "outputs": [],
   "source": []
  }
 ],
 "metadata": {
  "kernelspec": {
   "display_name": "Python 3 (ipykernel)",
   "language": "python",
   "name": "python3"
  },
  "language_info": {
   "codemirror_mode": {
    "name": "ipython",
    "version": 3
   },
   "file_extension": ".py",
   "mimetype": "text/x-python",
   "name": "python",
   "nbconvert_exporter": "python",
   "pygments_lexer": "ipython3",
   "version": "3.9.7"
  }
 },
 "nbformat": 4,
 "nbformat_minor": 5
}
