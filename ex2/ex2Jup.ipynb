{
 "cells": [
  {
   "cell_type": "code",
   "execution_count": 1,
   "id": "28c76103",
   "metadata": {},
   "outputs": [],
   "source": [
    "import numpy as np"
   ]
  },
  {
   "cell_type": "code",
   "execution_count": 12,
   "id": "317f0519",
   "metadata": {},
   "outputs": [
    {
     "name": "stdout",
     "output_type": "stream",
     "text": [
      "7\n"
     ]
    }
   ],
   "source": [
    "suger_range = np.random.randint(11)\n",
    "print(suger_range)"
   ]
  },
  {
   "cell_type": "code",
   "execution_count": 13,
   "id": "1d318648",
   "metadata": {},
   "outputs": [
    {
     "name": "stdout",
     "output_type": "stream",
     "text": [
      "[[2 0 6 2 3 4 3 6 5 0 4 5 4 0 2 1 4 6 2 6 0]\n",
      " [2 4 6 4 4 3 0 1 0 4 5 1 3 6 4 5 1 2 6 3 4]\n",
      " [0 3 1 6 2 4 4 6 0 3 2 6 0 3 3 4 3 3 4 3 4]\n",
      " [0 4 0 5 4 5 1 5 1 3 6 3 4 6 1 0 5 1 0 5 1]\n",
      " [1 6 1 6 6 1 6 5 6 2 3 6 4 0 3 6 4 0 4 5 6]\n",
      " [3 1 0 5 1 5 4 3 4 0 4 1 4 3 1 2 1 0 2 4 3]\n",
      " [3 3 4 2 2 6 4 0 6 3 2 6 5 5 0 2 3 1 2 0 2]\n",
      " [0 3 3 0 4 4 1 2 1 3 1 6 6 0 1 6 0 5 0 4 5]\n",
      " [6 2 5 2 4 2 4 4 6 0 1 2 3 0 6 0 5 1 1 5 2]\n",
      " [2 1 4 5 6 1 0 5 1 4 1 0 0 0 4 5 3 1 4 5 2]\n",
      " [4 2 4 0 2 1 5 2 1 0 2 3 6 0 1 6 0 4 2 2 6]\n",
      " [1 4 3 3 0 1 4 6 6 6 0 3 0 0 6 5 6 0 1 2 5]\n",
      " [5 3 1 0 2 5 6 6 4 3 6 4 2 2 5 0 3 0 0 3 0]\n",
      " [0 0 2 3 0 2 3 2 6 3 2 0 4 0 3 5 3 2 0 4 2]\n",
      " [3 4 6 2 0 6 6 4 5 4 4 6 6 0 5 1 3 5 5 1 6]\n",
      " [2 2 3 4 1 0 6 1 2 3 4 2 5 5 4 0 2 4 2 0 1]]\n"
     ]
    }
   ],
   "source": [
    "arr = np.random.randint(suger_range , size=(16,21))\n",
    "print(arr)"
   ]
  },
  {
   "cell_type": "code",
   "execution_count": 4,
   "id": "5013e556",
   "metadata": {},
   "outputs": [],
   "source": [
    "def get_suger_avg(array):\n",
    "    return np.round(np.average(array , axis=1), 3)"
   ]
  },
  {
   "cell_type": "code",
   "execution_count": 14,
   "id": "d0c0ad3e",
   "metadata": {},
   "outputs": [
    {
     "name": "stdout",
     "output_type": "stream",
     "text": [
      "[3.095 3.238 3.048 2.857 3.857 2.429 2.905 2.619 2.905 2.571 2.524 2.952\n",
      " 2.857 2.19  3.905 2.524]\n"
     ]
    }
   ],
   "source": [
    "avgArrSuger = get_suger_avg(arr)\n",
    "print(avgArrSuger)"
   ]
  },
  {
   "cell_type": "code",
   "execution_count": 7,
   "id": "24dcd681",
   "metadata": {},
   "outputs": [],
   "source": [
    "patients_avg_time = np.random.exponential(size=16)"
   ]
  },
  {
   "cell_type": "code",
   "execution_count": 6,
   "id": "ed7b48c7",
   "metadata": {},
   "outputs": [],
   "source": [
    "def max_suger_day(array):\n",
    "    return np.argmax(np.average(array , axis=0)) + 1"
   ]
  },
  {
   "cell_type": "code",
   "execution_count": 8,
   "id": "d2827a07",
   "metadata": {},
   "outputs": [],
   "source": [
    "def max_suger_day(array):\n",
    "    return np.argmax(np.average(array , axis=0)) + 1"
   ]
  },
  {
   "cell_type": "code",
   "execution_count": 9,
   "id": "5eaec0ce",
   "metadata": {},
   "outputs": [],
   "source": [
    "def max_suger_patient(array):\n",
    "    return np.argmax(get_suger_avg(array)) + 1"
   ]
  },
  {
   "cell_type": "code",
   "execution_count": 10,
   "id": "ad6a2af2",
   "metadata": {},
   "outputs": [],
   "source": [
    "def get_max_time_patient(array):\n",
    "    return np.argmax(array) + 1"
   ]
  },
  {
   "cell_type": "code",
   "execution_count": 11,
   "id": "4fe5b376",
   "metadata": {},
   "outputs": [
    {
     "name": "stdout",
     "output_type": "stream",
     "text": [
      "The day with the maximum suger is:  day  4\n",
      "The patient with maximum avg suger is:  patient number 7\n",
      "The patient who waited the most is:  patient number 4\n"
     ]
    }
   ],
   "source": [
    "print('The day with the maximum suger is: ', 'day ',max_suger_day(arr)) \n",
    "print('The patient with maximum avg suger is: ', 'patient number',max_suger_patient(arr)) \n",
    "print('The patient who waited the most is: ', 'patient number',get_max_time_patient(patients_avg_time))"
   ]
  },
  {
   "cell_type": "code",
   "execution_count": null,
   "id": "e07460cd",
   "metadata": {},
   "outputs": [],
   "source": []
  }
 ],
 "metadata": {
  "kernelspec": {
   "display_name": "Python 3 (ipykernel)",
   "language": "python",
   "name": "python3"
  },
  "language_info": {
   "codemirror_mode": {
    "name": "ipython",
    "version": 3
   },
   "file_extension": ".py",
   "mimetype": "text/x-python",
   "name": "python",
   "nbconvert_exporter": "python",
   "pygments_lexer": "ipython3",
   "version": "3.9.7"
  }
 },
 "nbformat": 4,
 "nbformat_minor": 5
}
